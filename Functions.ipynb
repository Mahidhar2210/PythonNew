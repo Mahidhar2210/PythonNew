{
  "nbformat": 4,
  "nbformat_minor": 0,
  "metadata": {
    "colab": {
      "name": "Functions.ipynb",
      "provenance": [],
      "authorship_tag": "ABX9TyPWKv4MUsPiJ4GeUAbrE/0f",
      "include_colab_link": true
    },
    "kernelspec": {
      "name": "python3",
      "display_name": "Python 3"
    },
    "language_info": {
      "name": "python"
    }
  },
  "cells": [
    {
      "cell_type": "markdown",
      "metadata": {
        "id": "view-in-github",
        "colab_type": "text"
      },
      "source": [
        "<a href=\"https://colab.research.google.com/github/Mahidhar2210/PythonNew/blob/module2/Functions.ipynb\" target=\"_parent\"><img src=\"https://colab.research.google.com/assets/colab-badge.svg\" alt=\"Open In Colab\"/></a>"
      ]
    },
    {
      "cell_type": "code",
      "execution_count": null,
      "metadata": {
        "colab": {
          "base_uri": "https://localhost:8080/"
        },
        "id": "eqvZAHuEXAse",
        "outputId": "7cbf9ee0-fb2e-4019-f6c7-4c14449032aa"
      },
      "outputs": [
        {
          "output_type": "stream",
          "name": "stdout",
          "text": [
            "hi\n",
            "hello\n",
            "bye\n"
          ]
        }
      ],
      "source": [
        "def mahi():\n",
        "  print(\"hi\")\n",
        "  print(\"hello\")\n",
        "  print(\"bye\")\n",
        "mahi()"
      ]
    },
    {
      "cell_type": "code",
      "source": [
        "def myfun(fname):\n",
        "  print(\"happy \"+fname + \" kuswanth\")\n",
        "\n",
        "myfun(\"Birthday\")\n",
        "myfun(\"Diwali\")\n",
        "myfun(\"New Year\")"
      ],
      "metadata": {
        "colab": {
          "base_uri": "https://localhost:8080/"
        },
        "id": "YyIZbLPWaJHg",
        "outputId": "bdb7502a-8a49-4117-be90-36c9f016f455"
      },
      "execution_count": 2,
      "outputs": [
        {
          "output_type": "stream",
          "name": "stdout",
          "text": [
            "happy Birthday kuswanth\n",
            "happy Diwali kuswanth\n",
            "happy New Year kuswanth\n"
          ]
        }
      ]
    },
    {
      "cell_type": "code",
      "source": [
        "def vote(name,age,gender):\n",
        "  print(\"name =\",name,\"age =\",age,\"gender =\",gender)\n",
        "  if age >17:\n",
        "    print(\"Eligible for voting\")\n",
        "  else:\n",
        "    print(\"Not eligible for voting\")\n",
        "name=input(\"Enter name :\")\n",
        "age=int(input(\"Age :\"))\n",
        "gender=input(\"Enter gender  :\")\n",
        "vote(name,age,gender)"
      ],
      "metadata": {
        "colab": {
          "base_uri": "https://localhost:8080/"
        },
        "id": "Z66krmGPaMEg",
        "outputId": "929e5e01-f1ef-43a2-8390-b054cd519b21"
      },
      "execution_count": null,
      "outputs": [
        {
          "output_type": "stream",
          "name": "stdout",
          "text": [
            "Enter name :mahi\n",
            "Age :20\n",
            "Enter gender  :male\n",
            "name = mahi age = 20 gender = male\n",
            "Eligible for voting\n"
          ]
        }
      ]
    },
    {
      "cell_type": "markdown",
      "source": [
        "Python built in function\n"
      ],
      "metadata": {
        "id": "LaExZ3tSlbfE"
      }
    },
    {
      "cell_type": "code",
      "source": [
        "#Python built in functions"
      ],
      "metadata": {
        "id": "wizEY25LhXfI"
      },
      "execution_count": null,
      "outputs": []
    },
    {
      "cell_type": "markdown",
      "source": [
        ""
      ],
      "metadata": {
        "id": "jP_1oSsrlXuE"
      }
    },
    {
      "cell_type": "code",
      "source": [
        ""
      ],
      "metadata": {
        "id": "vRCrZ1V3dILA"
      },
      "execution_count": null,
      "outputs": []
    }
  ]
}