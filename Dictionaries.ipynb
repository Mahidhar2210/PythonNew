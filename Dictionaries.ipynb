{
  "nbformat": 4,
  "nbformat_minor": 0,
  "metadata": {
    "colab": {
      "name": "Dictionaries.ipynb",
      "provenance": [],
      "authorship_tag": "ABX9TyOHiMcuLvIe48DzptupUmtY",
      "include_colab_link": true
    },
    "kernelspec": {
      "name": "python3",
      "display_name": "Python 3"
    },
    "language_info": {
      "name": "python"
    }
  },
  "cells": [
    {
      "cell_type": "markdown",
      "metadata": {
        "id": "view-in-github",
        "colab_type": "text"
      },
      "source": [
        "<a href=\"https://colab.research.google.com/github/Mahidhar2210/PythonNew/blob/module2/Dictionaries.ipynb\" target=\"_parent\"><img src=\"https://colab.research.google.com/assets/colab-badge.svg\" alt=\"Open In Colab\"/></a>"
      ]
    },
    {
      "cell_type": "code",
      "execution_count": null,
      "metadata": {
        "colab": {
          "base_uri": "https://localhost:8080/"
        },
        "id": "UtiHO7eMX_xu",
        "outputId": "83181d0d-b3c5-4c4f-9a24-a9861a1f5c46"
      },
      "outputs": [
        {
          "output_type": "stream",
          "name": "stdout",
          "text": [
            "{'mango', 'banana', 'papaya', 'pineapple', 'cherry', 'apple'}\n",
            "{'mango', 'banana', 'papaya', 'pineapple', 'cherry'}\n",
            "{'mango', 'banana', 'papaya', 'pineapple', 'cherry', 'apple'}\n"
          ]
        }
      ],
      "source": [
        "a = {\"apple\", \"banana\", \"cherry\"}\n",
        "b= {\"pineapple\", \"mango\", \"papaya\"}\n",
        "a.update(b)\n",
        "print(a)\n",
        "a.remove(\"apple\")\n",
        "print(a)\n",
        "a.add(\"apple\")\n",
        "print(a)\n"
      ]
    },
    {
      "cell_type": "code",
      "source": [
        "placements={\n",
        "    \"name\":input(),\n",
        "    \"age\":input(),\n",
        "    \"CGPA\":input(),\n",
        "    \"section\":input(),\n",
        "    \"phone number\": input()\n",
        "}\n",
        "print(placements)\n",
        "print(placements[\"CGPA\"])"
      ],
      "metadata": {
        "colab": {
          "base_uri": "https://localhost:8080/"
        },
        "id": "o48XHivmg9I8",
        "outputId": "cbbce55d-7680-44b1-b99e-1dc99f53feb2"
      },
      "execution_count": null,
      "outputs": [
        {
          "output_type": "stream",
          "name": "stdout",
          "text": [
            "mahi\n",
            "18\n",
            "9.4\n",
            "cse\n",
            "8405382058\n",
            "{'name': 'mahi', 'age': '18', 'CGPA': '9.4', 'section': 'cse', 'phone number': '8405382058'}\n",
            "9.4\n"
          ]
        }
      ]
    },
    {
      "cell_type": "code",
      "source": [
        ""
      ],
      "metadata": {
        "id": "Wci4HR9jjZ0f"
      },
      "execution_count": null,
      "outputs": []
    }
  ]
}