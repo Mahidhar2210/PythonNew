{
  "nbformat": 4,
  "nbformat_minor": 0,
  "metadata": {
    "colab": {
      "name": "mid1Practice.ipynb",
      "provenance": [],
      "authorship_tag": "ABX9TyOlihFcd0mxF1wGcC0WYkQj",
      "include_colab_link": true
    },
    "kernelspec": {
      "name": "python3",
      "display_name": "Python 3"
    },
    "language_info": {
      "name": "python"
    }
  },
  "cells": [
    {
      "cell_type": "markdown",
      "metadata": {
        "id": "view-in-github",
        "colab_type": "text"
      },
      "source": [
        "<a href=\"https://colab.research.google.com/github/Mahidhar2210/PythonNew/blob/module2/mid1Practice.ipynb\" target=\"_parent\"><img src=\"https://colab.research.google.com/assets/colab-badge.svg\" alt=\"Open In Colab\"/></a>"
      ]
    },
    {
      "cell_type": "code",
      "execution_count": null,
      "metadata": {
        "colab": {
          "base_uri": "https://localhost:8080/"
        },
        "id": "jWegkHYIaf-e",
        "outputId": "ef02e1f7-d995-4fa2-c808-90c466361dff"
      },
      "outputs": [
        {
          "output_type": "stream",
          "name": "stdout",
          "text": [
            "enter range : 25\n",
            "50\n",
            "29\n",
            "31\n",
            "37\n",
            "41\n",
            "43\n",
            "47\n"
          ]
        }
      ],
      "source": [
        "--#prime number in given range using functions\n",
        "def pn(x):\n",
        "  flag=0\n",
        "  for i in range(2,x):\n",
        "    if x%i==0:\n",
        "      flag=1\n",
        "      break\n",
        "  if flag==0:\n",
        "    print(x)\n",
        "a=int(input(\"enter range : \"))\n",
        "b=int(input())\n",
        "for i in range(a,b):\n",
        "  pn(i)"
      ]
    },
    {
      "cell_type": "code",
      "source": [
        "#to read any month in integer and display days for that month\n",
        "def month(x):\n",
        "  if x== 1 or x==3 or x== 5 or x== 7 or x== 8 or x== 10 or x== 12:\n",
        "    print(\"31 days\")\n",
        "  elif x==2:\n",
        "    print(\"28/29 days\")\n",
        "  elif x==4 or x==6 or x== 9 or x== 11:\n",
        "    print(\"30 days\")\n",
        "  else:\n",
        "    print(\"enter valid month number\")\n",
        "a=int(input(\"enter valid month number :\"))\n",
        "month(a)"
      ],
      "metadata": {
        "colab": {
          "base_uri": "https://localhost:8080/"
        },
        "id": "FBRxrAOearQz",
        "outputId": "8bc550d4-65f4-49b2-af4e-e2036cf91157"
      },
      "execution_count": null,
      "outputs": [
        {
          "output_type": "stream",
          "name": "stdout",
          "text": [
            "enter valid month number :12\n",
            "31 days\n"
          ]
        }
      ]
    },
    {
      "cell_type": "code",
      "source": [
        "#to print even length words in a string\n",
        "def even(n):\n",
        "  if len(n)%2==0:\n",
        "    print(n)\n",
        "a=str(input())\n",
        "x=a.split()\n",
        "for i in x:\n",
        "  even(i)"
      ],
      "metadata": {
        "colab": {
          "base_uri": "https://localhost:8080/"
        },
        "id": "iXx7oqVRa_zh",
        "outputId": "c1e65bf6-9922-417b-b73e-bd97d971776a"
      },
      "execution_count": null,
      "outputs": [
        {
          "output_type": "stream",
          "name": "stdout",
          "text": [
            "this is a python class\n",
            "this\n",
            "is\n",
            "python\n"
          ]
        }
      ]
    },
    {
      "cell_type": "code",
      "source": [
        "#capitalize first and last letter of each word\n",
        "a=str(input())\n",
        "n=a.split()\n",
        "s=\"\"\n",
        "for i in n:\n",
        "  b=i.capitalize()\n",
        "  c=i[-1].capitalize()\n",
        "  s=b[0:-1]+c\n",
        "  print(s,end=\" \")"
      ],
      "metadata": {
        "colab": {
          "base_uri": "https://localhost:8080/"
        },
        "id": "MfypO1kObr1Q",
        "outputId": "c521d683-baaa-4e1d-9068-1ab7e5291877"
      },
      "execution_count": null,
      "outputs": [
        {
          "output_type": "stream",
          "name": "stdout",
          "text": [
            "hero kushwant\n",
            "HerO KushwanT "
          ]
        }
      ]
    },
    {
      "cell_type": "code",
      "source": [
        "#read a string from user display first character of each word with capital letter\n",
        "a=str(input())\n",
        "n=a.split()\n",
        "s=\"\"\n",
        "for i in n:\n",
        "  s=i.capitalize()\n",
        "  print(s,end=' ')"
      ],
      "metadata": {
        "colab": {
          "base_uri": "https://localhost:8080/"
        },
        "id": "NTz9YbcVmHbp",
        "outputId": "761ff589-5547-4cac-e260-622da4b3e357"
      },
      "execution_count": null,
      "outputs": [
        {
          "output_type": "stream",
          "name": "stdout",
          "text": [
            "kushwanth is  a play boy\n",
            "Kushwanth Is A Play Boy "
          ]
        }
      ]
    },
    {
      "cell_type": "code",
      "source": [
        "#convert a list of multiple integer into a single integer\n",
        "a=eval(input(\"enter list elements :\"))\n",
        "print(type(a))\n",
        "b=\"\"\n",
        "for i in a:\n",
        "  b+=str(i)\n",
        "print(b)"
      ],
      "metadata": {
        "colab": {
          "base_uri": "https://localhost:8080/"
        },
        "id": "LPzYQC95b1Lt",
        "outputId": "6d90b40c-d105-4eee-bc19-0421b0b93a13"
      },
      "execution_count": null,
      "outputs": [
        {
          "output_type": "stream",
          "name": "stdout",
          "text": [
            "enter list elements :[10,20,30,40]\n",
            "<class 'list'>\n",
            "10203040\n"
          ]
        }
      ]
    },
    {
      "cell_type": "code",
      "source": [
        "#to find power of number with recursion and without recursion n=2,p=3\n",
        "def pwr(a,b):\n",
        "  if b==0:\n",
        "    return 1\n",
        "  else:\n",
        "    return a*pwr(a,b-1)\n",
        "a=int(input())\n",
        "b=int(input())\n",
        "print(pwr(a,b))\n"
      ],
      "metadata": {
        "id": "F2YVo21acnWf",
        "colab": {
          "base_uri": "https://localhost:8080/"
        },
        "outputId": "b1c98891-ce68-419a-c4ca-538417cb8f1e"
      },
      "execution_count": null,
      "outputs": [
        {
          "output_type": "stream",
          "name": "stdout",
          "text": [
            "2\n",
            "5\n",
            "32\n"
          ]
        }
      ]
    },
    {
      "cell_type": "code",
      "source": [
        "#to sort tuples by total digits input list=[(3,4,6,723),(1,2),(134,234,34)] \n",
        "list=[(3,4,6,723),(1,2),(134,234,34)]\n",
        "list.sort()\n",
        "print(list)"
      ],
      "metadata": {
        "id": "oxFTRUdKJ_1B",
        "colab": {
          "base_uri": "https://localhost:8080/"
        },
        "outputId": "3dbcc57c-fb88-4960-c791-1d545bf74894"
      },
      "execution_count": null,
      "outputs": [
        {
          "output_type": "stream",
          "name": "stdout",
          "text": [
            "[(1, 2), (3, 4, 6, 723), (134, 234, 34)]\n"
          ]
        }
      ]
    },
    {
      "cell_type": "code",
      "source": [
        "#take 5 subject marks from user and display the grade of the student if avg is 90-100 o grade 80-89 a+ 70-79 A 60-69 B+ <40 fail\n",
        "s1=int(input())\n",
        "s2=int(input())\n",
        "s3=int(input())\n",
        "s4=int(input())\n",
        "s5=int(input())\n",
        "avg=(s1+s2+s3+s4+s5)/5\n",
        "if avg>=90:\n",
        "  print(\"O grade\")\n",
        "elif avg>=80:\n",
        "  print(\"A+ grade\")\n",
        "elif avg>=70:\n",
        "  print(\"A grade\")\n",
        "elif avg>=60:\n",
        "  print(\"B+ grade\")\n",
        "elif avg>=50:\n",
        "  print(\"B grade\")\n",
        "elif avg>=40:\n",
        "  print(\"C grade\")\n",
        "else:\n",
        "  print(\"Fail8\")\n"
      ],
      "metadata": {
        "id": "JLksgD1cKmDt",
        "colab": {
          "base_uri": "https://localhost:8080/"
        },
        "outputId": "b7017429-f2f9-4e59-bfbe-c7932c8aa149"
      },
      "execution_count": null,
      "outputs": [
        {
          "output_type": "stream",
          "name": "stdout",
          "text": [
            "60\n",
            "0\n",
            "79\n",
            "69\n",
            "78\n",
            "B grade\n"
          ]
        }
      ]
    },
    {
      "cell_type": "code",
      "source": [
        "#that prints 1 if all the three given numbers are in acending order \n",
        "a=int(input())\n",
        "b=int(input())\n",
        "c=int(input())\n",
        "d=[a,b,c]\n",
        "e=d\n",
        "d.sort()\n",
        "if d==e:\n",
        "  print(\"1\")\n",
        "else:\n",
        "  print(\"0\")"
      ],
      "metadata": {
        "id": "0G8a6hD5LPg7",
        "colab": {
          "base_uri": "https://localhost:8080/"
        },
        "outputId": "19fa79c0-87b2-4d85-fe3d-b94b5d2c722e"
      },
      "execution_count": null,
      "outputs": [
        {
          "output_type": "stream",
          "name": "stdout",
          "text": [
            "1\n",
            "2\n",
            "3\n",
            "1\n"
          ]
        }
      ]
    },
    {
      "cell_type": "code",
      "source": [
        "#check given number is perfect number or not\n",
        "a=int(input())\n",
        "b=a\n",
        "c=0\n",
        "for i in range(1,a):\n",
        "  if a%i==0:\n",
        "    c+=i\n",
        "if c==b:\n",
        "  print(\"perfect number\")\n",
        "else:\n",
        "  print(\"not perfect number\")"
      ],
      "metadata": {
        "colab": {
          "base_uri": "https://localhost:8080/"
        },
        "id": "kSRKyFscL2f8",
        "outputId": "65967a39-d421-4529-d420-7b489df68eff"
      },
      "execution_count": null,
      "outputs": [
        {
          "output_type": "stream",
          "name": "stdout",
          "text": [
            "6\n",
            "perfect number\n"
          ]
        }
      ]
    },
    {
      "cell_type": "code",
      "source": [
        "#check given string is palindrame or not\n",
        "s=input()\n",
        "a = \"\"\n",
        "for i in s:\n",
        "  a = i + a\n",
        "if a==s:\n",
        "  print(\"palindrome\")\n",
        "else:\n",
        "  print(\"Not palindrome\")"
      ],
      "metadata": {
        "id": "-JQ5nE3NMwTQ",
        "colab": {
          "base_uri": "https://localhost:8080/"
        },
        "outputId": "28b741e2-694f-493d-c178-175a35d81eaa"
      },
      "execution_count": null,
      "outputs": [
        {
          "output_type": "stream",
          "name": "stdout",
          "text": [
            "madam\n",
            "palindrome\n"
          ]
        }
      ]
    },
    {
      "cell_type": "code",
      "source": [
        "#gcd of 2 num\n",
        "a=int(input(\"enter a number\"))\n",
        "b=int(input(\"enter another number\"))\n",
        "k=a if (a<b) else b\n",
        "while True:\n",
        "  if(a%k==0 and b%k==0):\n",
        "    break\n",
        "  k-=1\n",
        "print(k)"
      ],
      "metadata": {
        "id": "MBjHijmTMxfi",
        "colab": {
          "base_uri": "https://localhost:8080/"
        },
        "outputId": "bdff9ca4-950e-4794-cee0-b2b0483f4954"
      },
      "execution_count": null,
      "outputs": [
        {
          "output_type": "stream",
          "name": "stdout",
          "text": [
            "enter a number5\n",
            "enter another number100\n",
            "5\n"
          ]
        }
      ]
    },
    {
      "cell_type": "code",
      "source": [
        "#sum of even numbers\n",
        "a=int(input())\n",
        "s=0\n",
        "while a>0:\n",
        "  d=a%10\n",
        "  if d%2==0:\n",
        "    s=s+d\n",
        "  a=a//10\n",
        "print(s)"
      ],
      "metadata": {
        "id": "XfqDrct2Mz5A",
        "colab": {
          "base_uri": "https://localhost:8080/"
        },
        "outputId": "e28eba01-200d-4b2f-b9e1-cb39717c2022"
      },
      "execution_count": null,
      "outputs": [
        {
          "output_type": "stream",
          "name": "stdout",
          "text": [
            "1234\n",
            "6\n"
          ]
        }
      ]
    },
    {
      "cell_type": "code",
      "source": [
        "#to calculate sum of sqares of digits of number given by user input=123 output=14\n",
        "a=int(input())\n",
        "s=0\n",
        "while a>0:\n",
        "  d=a%10\n",
        "  s=s+d*d\n",
        "  a=a//10\n",
        "print(s)"
      ],
      "metadata": {
        "id": "u-ZRrP6cNbWl",
        "colab": {
          "base_uri": "https://localhost:8080/"
        },
        "outputId": "37f1773b-024e-47dc-d351-bc2f2584d691"
      },
      "execution_count": null,
      "outputs": [
        {
          "output_type": "stream",
          "name": "stdout",
          "text": [
            "123\n",
            "14\n"
          ]
        }
      ]
    },
    {
      "cell_type": "code",
      "source": [
        "#given a string is s=\"abcdefcba\" , print count front back matches\n",
        "a=input()\n",
        "c=0\n",
        "for i in range(len(a)//2):\n",
        "  d=i+1\n",
        "  if a[i]==a[-d]:\n",
        "    c+=1\n",
        "print(c)"
      ],
      "metadata": {
        "colab": {
          "base_uri": "https://localhost:8080/"
        },
        "id": "pmXv37uqNi2t",
        "outputId": "92143c28-e44c-4a60-c121-8e1ea27a3fc2"
      },
      "execution_count": null,
      "outputs": [
        {
          "output_type": "stream",
          "name": "stdout",
          "text": [
            "abcdefcba\n",
            "3\n"
          ]
        }
      ]
    },
    {
      "cell_type": "code",
      "source": [
        ""
      ],
      "metadata": {
        "id": "ikQ190f1wbRi"
      },
      "execution_count": null,
      "outputs": []
    },
    {
      "cell_type": "code",
      "source": [
        "#print(repeatNumTimes(4)) ,result=[1,2,2,3,3,3,4,4,4,4]\n",
        "a=int(input())\n",
        "b=[]\n",
        "for i in range(1,a+1):\n",
        "  for j in range(i):\n",
        "    b.append(i)\n",
        "print(b)"
      ],
      "metadata": {
        "colab": {
          "base_uri": "https://localhost:8080/"
        },
        "id": "A5xqnvWGOPZB",
        "outputId": "e717dbaf-575e-427f-cc1c-933af126ebb6"
      },
      "execution_count": null,
      "outputs": [
        {
          "output_type": "stream",
          "name": "stdout",
          "text": [
            "4\n",
            "[1, 2, 2, 3, 3, 3, 4, 4, 4, 4]\n"
          ]
        }
      ]
    },
    {
      "cell_type": "code",
      "source": [
        ""
      ],
      "metadata": {
        "id": "xanb-fA-wdji"
      },
      "execution_count": null,
      "outputs": []
    },
    {
      "cell_type": "code",
      "source": [
        "#print number of vowels and consonants \n",
        "a=input()\n",
        "v=0\n",
        "c=0\n",
        "for i in range(len(a)):\n",
        "  if a[i]=='a' or a[i]=='e' or a[i]=='i' or a[i]=='o' or a[i]=='u':\n",
        "    v+=1\n",
        "  else:\n",
        "    c+=1\n",
        "print(\"vowels=\",v)\n",
        "print('consonants=',c)"
      ],
      "metadata": {
        "colab": {
          "base_uri": "https://localhost:8080/"
        },
        "id": "8hmgk819O6V1",
        "outputId": "2c041e21-5636-401c-b071-330a523635c9"
      },
      "execution_count": null,
      "outputs": [
        {
          "output_type": "stream",
          "name": "stdout",
          "text": [
            "mahidhar\n",
            "vowels= 3\n",
            "consonants= 5\n"
          ]
        }
      ]
    },
    {
      "cell_type": "code",
      "source": [
        "#given two integers A and B , if A is less than B then print in asecnding order,if B is less than A then print in decending order\n",
        "a=int(input())\n",
        "b=int(input())\n",
        "if a>b:\n",
        "  while a>=b:\n",
        "    print(a,end=\" \")\n",
        "    a-=1\n",
        "else:\n",
        "  for i in range(a,b+1):\n",
        "    print(i,end=\" \")\n",
        "\n"
      ],
      "metadata": {
        "colab": {
          "base_uri": "https://localhost:8080/"
        },
        "id": "V3EG4hF8QDAH",
        "outputId": "fe309450-3527-4926-993b-e1c3a1cfc469"
      },
      "execution_count": null,
      "outputs": [
        {
          "output_type": "stream",
          "name": "stdout",
          "text": [
            "10\n",
            "1\n",
            "10 9 8 7 6 5 4 3 2 1 "
          ]
        }
      ]
    },
    {
      "cell_type": "code",
      "source": [
        "#roundtrips 6km take input from user as number of days ,number of round trips he completed per day>calculate the total distance he cover in meters\n",
        "# if distance is less than 4000m then ask to work more if greater then print good job\n",
        "a=int(input())\n",
        "b=int(input())\n",
        "m=a*b*6000\n",
        "if m>=4000:\n",
        "  print(\"Good job\")\n",
        "else:\n",
        "  print(\"You have to work more\")"
      ],
      "metadata": {
        "id": "_6xFGHiXQEzW",
        "colab": {
          "base_uri": "https://localhost:8080/"
        },
        "outputId": "a1970bba-ef51-4ac9-eebc-ea4b16685c1f"
      },
      "execution_count": null,
      "outputs": [
        {
          "output_type": "stream",
          "name": "stdout",
          "text": [
            "4\n",
            "3\n",
            "Good job\n"
          ]
        }
      ]
    },
    {
      "cell_type": "code",
      "source": [
        "#given the list of students in L and a character,display the names of students whose first letter is given as input\n",
        "a=['devender','srikar','omsri','mahi','sohan','abhi']\n",
        "b=input()\n",
        "c=[]\n",
        "for i in a:\n",
        "  if i[0]==b:\n",
        "    c.append(i)\n",
        "print(c)"
      ],
      "metadata": {
        "colab": {
          "base_uri": "https://localhost:8080/"
        },
        "id": "TIe39H36RtpQ",
        "outputId": "3114b89b-4619-4740-f547-c93a83855d8d"
      },
      "execution_count": null,
      "outputs": [
        {
          "output_type": "stream",
          "name": "stdout",
          "text": [
            "s\n",
            "['srikar', 'sohan']\n"
          ]
        }
      ]
    },
    {
      "cell_type": "code",
      "source": [
        "#given a list of city names print the city names whose length is greater than the given length\n",
        "a=['devender','srikar','omsri','mahi','sohan','abhi']\n",
        "b=int(input())\n",
        "c=[]\n",
        "for i in a:\n",
        "  if len(i)>=b:\n",
        "    c.append(i)\n",
        "print(c)"
      ],
      "metadata": {
        "colab": {
          "base_uri": "https://localhost:8080/"
        },
        "id": "fVkfpTnNSaRa",
        "outputId": "da030bad-9209-487a-bd5e-c1c90d58458e"
      },
      "execution_count": null,
      "outputs": [
        {
          "output_type": "stream",
          "name": "stdout",
          "text": [
            "5\n",
            "['devender', 'srikar', 'omsri', 'sohan']\n"
          ]
        }
      ]
    },
    {
      "cell_type": "code",
      "source": [
        "def com(a):\n",
        "    b=\"\"\n",
        "    for i in a:\n",
        "      b+=str(i)\n",
        "    return b\n",
        "a=eval(input())\n",
        "print(com(a))"
      ],
      "metadata": {
        "id": "at651rtHS4c6",
        "colab": {
          "base_uri": "https://localhost:8080/"
        },
        "outputId": "67dea1a8-0628-46be-fe00-3b53f422ec4c"
      },
      "execution_count": null,
      "outputs": [
        {
          "output_type": "stream",
          "name": "stdout",
          "text": [
            "[11,22]\n",
            "1122\n"
          ]
        }
      ]
    }
  ]
}